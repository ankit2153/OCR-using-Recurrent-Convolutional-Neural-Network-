{
 "cells": [
  {
   "cell_type": "code",
   "execution_count": 1,
   "metadata": {},
   "outputs": [],
   "source": [
    "import glob\n",
    "import os \n",
    "import string\n",
    "from pathlib import Path\n",
    "\n",
    "from PIL import Image\n",
    "import numpy as np\n",
    "import torch\n",
    "import torch.nn as nn\n",
    "import torch.nn.functional as F\n",
    "from torch.utils.data import DataLoader, Dataset\n",
    "from torchvision import transforms\n",
    "from torchvision.models import resnet18\n",
    "import matplotlib.pyplot as plt\n",
    "import collections\n",
    "\n",
    "from IPython.display import clear_output\n",
    "%matplotlib inline\n"
   ]
  },
  {
   "cell_type": "code",
   "execution_count": 2,
   "metadata": {},
   "outputs": [
    {
     "data": {
      "text/plain": [
       "<torch._C.Generator at 0x2c4ab6d5d50>"
      ]
     },
     "execution_count": 2,
     "metadata": {},
     "output_type": "execute_result"
    }
   ],
   "source": [
    "device = torch.device('cuda' if torch.cuda.is_available() else 'cpu')\n",
    "\n",
    "torch.manual_seed(0)"
   ]
  },
  {
   "cell_type": "code",
   "execution_count": 3,
   "metadata": {},
   "outputs": [],
   "source": [
    "def plot_loss(epoch: int, \n",
    "              train_losses: list, \n",
    "              val_losses: list, \n",
    "              n_steps: int = 100):\n",
    "    \n",
    "    # clear previous graph\n",
    "    clear_output(True)\n",
    "    # making titles\n",
    "    train_title = f'Epoch:{epoch} | Train Loss:{np.mean(train_losses[-n_steps:]):.6f}'\n",
    "    \n",
    "    val_title = f'Epoch:{epoch} | Val Loss:{np.mean(val_losses[-n_steps:]):.6f}'\n",
    "\n",
    "    fig, ax = plt.subplots(1, 2, figsize=(12, 6))\n",
    "    \n",
    "    ax[0].plot(train_losses)\n",
    "    ax[1].plot(val_losses)\n",
    "\n",
    "    ax[0].set_title(train_title)\n",
    "    ax[1].set_title(val_title)\n",
    "\n",
    "    plt.show()\n",
    "\n",
    "def print_prediction(model, dataset, device, label_converter):\n",
    "    \n",
    "    idx = np.random.randint(len(dataset))\n",
    "    path = dataset.pathes[idx]\n",
    "    \n",
    "    with torch.no_grad():\n",
    "        model.eval()\n",
    "        img, target_text = dataset[idx]\n",
    "        img = img.unsqueeze(0)\n",
    "        logits = model(img.to(device))\n",
    "        \n",
    "    pred_text = decode_prediction(logits.cpu(), label_converter)\n",
    "\n",
    "    img = np.asarray(Image.open(path).convert('L'))\n",
    "    \n",
    "    title = f'Truth: {target_text} | Pred: {pred_text}'\n",
    "    plt.imshow(img)\n",
    "    plt.title(title)\n",
    "    plt.axis('off');"
   ]
  },
  {
   "cell_type": "code",
   "execution_count": 4,
   "metadata": {},
   "outputs": [],
   "source": [
    "class strLabelConverter(object):\n",
    "\n",
    "    def __init__(self, alphabet: str, ignore_case: bool = True):\n",
    "        \n",
    "        self._ignore_case = ignore_case\n",
    "        \n",
    "        if self._ignore_case:\n",
    "            alphabet = alphabet.lower()\n",
    "        self.alphabet = alphabet + '-'  # for `-1` index\n",
    "\n",
    "        self.char2idx = {}\n",
    "        \n",
    "        for i, char in enumerate(alphabet):\n",
    "            self.char2idx[char] = i + 1\n",
    "        self.idx2char = {idx: char for char, idx in self.char2idx.items()}\n",
    "\n",
    "    def encode(self, text):\n",
    "        \n",
    "        if isinstance(text, str):\n",
    "            \n",
    "            text = [\n",
    "                \n",
    "                self.char2idx[char.lower() if self._ignore_case else char]\n",
    "                \n",
    "                for char in text\n",
    "            ]\n",
    "            \n",
    "            length = [len(text)]\n",
    "            \n",
    "        elif isinstance(text, collections.Iterable):\n",
    "            \n",
    "            length = [len(s) for s in text]\n",
    "            text = ''.join(text)\n",
    "            text, _ = self.encode(text)\n",
    "        return (torch.IntTensor(text), torch.IntTensor(length))\n",
    "\n",
    "    def decode(self, t, length, raw=False):\n",
    "        \n",
    "        if length.numel() == 1:\n",
    "            length = length[0]\n",
    "            assert t.numel() == length, \"text with length: {} does not match declared length: {}\".format(t.numel(), length)\n",
    "            if raw:\n",
    "                return ''.join([self.alphabet[i - 1] for i in t])\n",
    "            else:\n",
    "                char_list = []\n",
    "                for i in range(length):\n",
    "                    if t[i] != 0 and (not (i > 0 and t[i - 1] == t[i])):\n",
    "                        char_list.append(self.alphabet[t[i] - 1])\n",
    "                return ''.join(char_list)\n",
    "        else:\n",
    "            # batch mode\n",
    "            assert t.numel() == length.sum(), \"texts with length: {} does not match declared length: {}\".format(t.numel(), length.sum())\n",
    "            texts = []\n",
    "            index = 0\n",
    "            for i in range(length.numel()):\n",
    "                l = length[i]\n",
    "                texts.append(\n",
    "                    self.decode(\n",
    "                        t[index:index + l], torch.IntTensor([l]), raw=raw))\n",
    "                index += l\n",
    "        return texts\n",
    "\n",
    "\n",
    "def decode_prediction(logits: torch.Tensor, \n",
    "                      label_converter: strLabelConverter) -> str:\n",
    "    \n",
    "    tokens = logits.softmax(2).argmax(2)\n",
    "    tokens = tokens.squeeze(1).numpy()\n",
    "    \n",
    "    # convert tor stings tokens\n",
    "    tokens = ''.join([label_converter.idx2char[token] \n",
    "                      if token != 0  else '-' \n",
    "                      for token in tokens])\n",
    "    \n",
    "    tokens = tokens.split('-')\n",
    "    \n",
    "    # remove duplicates\n",
    "    text = [char \n",
    "            for batch_token in tokens \n",
    "            for idx, char in enumerate(batch_token)\n",
    "            if char != batch_token[idx-1] or len(batch_token) == 1]\n",
    "    text = ''.join(text)\n",
    "    return text"
   ]
  },
  {
   "cell_type": "code",
   "execution_count": 5,
   "metadata": {},
   "outputs": [],
   "source": [
    "class blockCNN(nn.Module):\n",
    "    def __init__(self, in_nc, out_nc, kernel_size, padding, stride=1):\n",
    "        super(blockCNN, self).__init__()\n",
    "        self.in_nc = in_nc\n",
    "        self.out_nc = out_nc\n",
    "        self.kernel_size = kernel_size\n",
    "        self.padding = padding\n",
    "        # layers\n",
    "        self.conv = nn.Conv2d(in_nc, out_nc, \n",
    "                              kernel_size=kernel_size, \n",
    "                              stride=stride, \n",
    "                              padding=padding)\n",
    "        self.bn = nn.BatchNorm2d(out_nc)\n",
    "        \n",
    "    def forward(self, batch, use_bn=False, use_relu=False, \n",
    "                use_maxpool=False, maxpool_kernelsize=None):\n",
    "        batch = self.conv(batch)\n",
    "        if use_bn:\n",
    "            batch = self.bn(batch)\n",
    "        if use_relu:\n",
    "            batch = F.relu(batch)\n",
    "        if use_maxpool:\n",
    "            assert maxpool_kernelsize is not None\n",
    "            batch = F.max_pool2d(batch, kernel_size=maxpool_kernelsize, stride=2)\n",
    "        return batch\n",
    "\n",
    "class blockRNN(nn.Module):\n",
    "    def __init__(self, in_size, hidden_size, out_size, bidirectional, dropout=0):\n",
    "        super(blockRNN, self).__init__()\n",
    "        self.in_size = in_size\n",
    "        self.hidden_size = hidden_size\n",
    "        self.out_size = out_size\n",
    "        self.bidirectional = bidirectional\n",
    "        # layers\n",
    "        self.gru = nn.GRU(in_size, hidden_size, bidirectional=bidirectional)\n",
    "        \n",
    "    def forward(self, batch, add_output=False):\n",
    "        \n",
    "        batch_size = batch.size(1)\n",
    "        outputs, hidden = self.gru(batch)\n",
    "        out_size = int(outputs.size(2) / 2)\n",
    "        if add_output:\n",
    "            outputs = outputs[:, :, :out_size] + outputs[:, :, out_size:]\n",
    "        return outputs"
   ]
  },
  {
   "cell_type": "markdown",
   "metadata": {},
   "source": [
    "## <center>  Dataset"
   ]
  },
  {
   "cell_type": "code",
   "execution_count": 6,
   "metadata": {},
   "outputs": [],
   "source": [
    "class CaptchaDataset(Dataset):\n",
    "    def __init__(self, img_dir: str):\n",
    "        pathes = os.listdir(img_dir)\n",
    "        abspath = os.path.abspath(img_dir)\n",
    "        self.img_dir = img_dir\n",
    "        self.pathes = [os.path.join(abspath, path) for path in pathes]\n",
    "        self.list_transforms = transforms.Compose([transforms.ToTensor()])\n",
    "        \n",
    "    def __len__(self):\n",
    "        return len(self.pathes)\n",
    "    \n",
    "    def __getitem__(self, idx):\n",
    "        path = self.pathes[idx]\n",
    "        text = self.get_filename(path)\n",
    "        img = Image.open(path).convert('RGB')\n",
    "        img = self.transform(img)\n",
    "        return img, text\n",
    "    \n",
    "    def get_filename(self, path: str) -> str:\n",
    "        return os.path.basename(path).split('.')[0].lower().strip()\n",
    "    \n",
    "    def transform(self, img) -> torch.Tensor:\n",
    "        return self.list_transforms(img)"
   ]
  },
  {
   "cell_type": "markdown",
   "metadata": {},
   "source": [
    "## <center> Dataset Params"
   ]
  },
  {
   "cell_type": "code",
   "execution_count": 7,
   "metadata": {},
   "outputs": [],
   "source": [
    "TRAIN_DIR = Path('./train')\n",
    "VAL_DIR = Path('./val')\n",
    "BATCH_SIZE = 8\n"
   ]
  },
  {
   "cell_type": "code",
   "execution_count": 8,
   "metadata": {},
   "outputs": [
    {
     "data": {
      "text/plain": [
       "'abcdefghijklmnopqrstuvwxyz0123456789'"
      ]
     },
     "execution_count": 8,
     "metadata": {},
     "output_type": "execute_result"
    }
   ],
   "source": [
    "alphabet = string.ascii_lowercase + string.digits\n",
    "label_converter = strLabelConverter(alphabet)\n",
    "alphabet"
   ]
  },
  {
   "cell_type": "code",
   "execution_count": 9,
   "metadata": {},
   "outputs": [],
   "source": [
    "train_dataset = CaptchaDataset(TRAIN_DIR)\n",
    "val_dataset = CaptchaDataset(VAL_DIR)\n",
    "train_dataloader = DataLoader(train_dataset, batch_size=BATCH_SIZE, \n",
    "                               shuffle=True)\n",
    "val_dataloader = DataLoader(val_dataset, batch_size=BATCH_SIZE, \n",
    "                             shuffle=False)"
   ]
  },
  {
   "cell_type": "code",
   "execution_count": 10,
   "metadata": {},
   "outputs": [
    {
     "name": "stdout",
     "output_type": "stream",
     "text": [
      "torch.Size([8, 3, 50, 200]) 8\n"
     ]
    }
   ],
   "source": [
    "imgs, texts = next(iter(val_dataloader))\n",
    "print(imgs.shape, len(texts))"
   ]
  },
  {
   "cell_type": "markdown",
   "metadata": {},
   "source": [
    "## <center> Model"
   ]
  },
  {
   "cell_type": "code",
   "execution_count": 11,
   "metadata": {},
   "outputs": [],
   "source": [
    "def weights_init(m):\n",
    "    classname = m.__class__.__name__\n",
    "    if type(m) in [nn.Linear, nn.Conv2d, nn.Conv1d]:\n",
    "        torch.nn.init.xavier_uniform_(m.weight)\n",
    "        m.bias.data.fill_(0.01)\n",
    "    elif classname.find('BatchNorm') != -1:\n",
    "        m.weight.data.normal_(1.0, 0.02)\n",
    "        m.bias.data.fill_(0)"
   ]
  },
  {
   "cell_type": "code",
   "execution_count": 12,
   "metadata": {},
   "outputs": [],
   "source": [
    "class CRNN(nn.Module):\n",
    "    def __init__(self, hidden_size: int, \n",
    "                 vocab_size: int, \n",
    "                 bidirectional: bool = True, \n",
    "                 dropout: float = 0.5):\n",
    "        \n",
    "        super(CRNN, self).__init__()\n",
    "        \n",
    "        self.hidden_size = hidden_size\n",
    "        self.vocab_size = vocab_size\n",
    "        self.bidirectional = bidirectional\n",
    "        # make layers\n",
    "        # convolutions \n",
    "        resnet = resnet18(pretrained=True)\n",
    "        \n",
    "        modules = list(resnet.children())[:-3]\n",
    "        \n",
    "        self.resnet = nn.Sequential(*modules)\n",
    "        #PRETRAINED^\n",
    "        \n",
    "        \n",
    "        \n",
    "        self.cn6 = blockCNN(256, 256, kernel_size=3, padding=1)\n",
    "        # RNN + Linear\n",
    "        self.linear1 = nn.Linear(1024, 256)\n",
    "        \n",
    "        self.gru1 = blockRNN(256, hidden_size, hidden_size,\n",
    "                             dropout=dropout, \n",
    "                             bidirectional=bidirectional)\n",
    "        \n",
    "        self.gru2 = blockRNN(hidden_size, hidden_size, vocab_size,\n",
    "                             dropout=dropout,\n",
    "                             bidirectional=bidirectional)\n",
    "        \n",
    "        self.linear2 = nn.Linear(hidden_size * 2, vocab_size)\n",
    "        \n",
    "    def forward(self, batch: torch.Tensor):\n",
    "        \n",
    "        batch_size = batch.size(0)\n",
    "        # convolutions\n",
    "        batch = self.resnet(batch)\n",
    "        \n",
    "        batch = self.cn6(batch, use_relu=True, use_bn=True)\n",
    "        \n",
    "        # make sequences of image features\n",
    "        batch = batch.permute(0, 3, 1, 2)\n",
    "        \n",
    "        n_channels = batch.size(1)\n",
    "        \n",
    "        batch = batch.view(batch_size, n_channels, -1)\n",
    "        batch = self.linear1(batch)\n",
    "        # rnn layers\n",
    "        batch = self.gru1(batch, add_output=True)\n",
    "        batch = self.gru2(batch)\n",
    "        # output\n",
    "        batch = self.linear2(batch)\n",
    "        batch = batch.permute(1, 0, 2)\n",
    "        return batch"
   ]
  },
  {
   "cell_type": "markdown",
   "metadata": {},
   "source": [
    "## <center>  Model Parameters and Initialization"
   ]
  },
  {
   "cell_type": "code",
   "execution_count": 13,
   "metadata": {},
   "outputs": [
    {
     "name": "stdout",
     "output_type": "stream",
     "text": [
      "37\n"
     ]
    }
   ],
   "source": [
    "hidden_size = 256\n",
    "vocab_size = len(alphabet) + 1 # extra character for blank symbol\n",
    "bidirectional = True\n",
    "dropout = 0.1\n",
    "weight_decay = 1e-5\n",
    "momentum = 0.9\n",
    "clip_norm = 5\n",
    "max_epoch = 50\n",
    "print(vocab_size)"
   ]
  },
  {
   "cell_type": "code",
   "execution_count": 14,
   "metadata": {},
   "outputs": [
    {
     "name": "stderr",
     "output_type": "stream",
     "text": [
      "C:\\Program Files\\Python312\\Lib\\site-packages\\torchvision\\models\\_utils.py:208: UserWarning: The parameter 'pretrained' is deprecated since 0.13 and may be removed in the future, please use 'weights' instead.\n",
      "  warnings.warn(\n",
      "C:\\Program Files\\Python312\\Lib\\site-packages\\torchvision\\models\\_utils.py:223: UserWarning: Arguments other than a weight enum or `None` for 'weights' are deprecated since 0.13 and may be removed in the future. The current behavior is equivalent to passing `weights=ResNet18_Weights.IMAGENET1K_V1`. You can also use `weights=ResNet18_Weights.DEFAULT` to get the most up-to-date weights.\n",
      "  warnings.warn(msg)\n"
     ]
    },
    {
     "data": {
      "text/plain": [
       "torch.Size([13, 8, 37])"
      ]
     },
     "execution_count": 14,
     "metadata": {},
     "output_type": "execute_result"
    }
   ],
   "source": [
    "crnn = CRNN(hidden_size=hidden_size, vocab_size=vocab_size, \n",
    "            bidirectional=bidirectional, dropout=dropout).to(device)\n",
    "crnn(imgs.to(device)).shape"
   ]
  },
  {
   "cell_type": "code",
   "execution_count": 15,
   "metadata": {},
   "outputs": [
    {
     "name": "stderr",
     "output_type": "stream",
     "text": [
      "C:\\Program Files\\Python312\\Lib\\site-packages\\torch\\optim\\lr_scheduler.py:28: UserWarning: The verbose parameter is deprecated. Please use get_last_lr() to access the learning rate.\n",
      "  warnings.warn(\"The verbose parameter is deprecated. Please use get_last_lr() \"\n"
     ]
    }
   ],
   "source": [
    "lr = 0.02\n",
    "optimizer = torch.optim.SGD(crnn.parameters(), lr=lr, nesterov=True, \n",
    "                            weight_decay=weight_decay, momentum=momentum)\n",
    "critertion = nn.CTCLoss(blank=0)\n",
    "scheduler = torch.optim.lr_scheduler.ReduceLROnPlateau(optimizer, verbose=True, patience=5)"
   ]
  },
  {
   "cell_type": "code",
   "execution_count": 16,
   "metadata": {},
   "outputs": [],
   "source": [
    "def validation(model, val_losses, label_converter):\n",
    "    with torch.no_grad():\n",
    "        model.eval()\n",
    "        for batch_img, batch_text in val_dataloader:\n",
    "            logits = crnn(batch_img.to(device))\n",
    "            val_loss = calculate_loss(logits, batch_text, label_converter)\n",
    "            val_losses.append(val_loss.item())\n",
    "    return val_losses"
   ]
  },
  {
   "cell_type": "code",
   "execution_count": 17,
   "metadata": {},
   "outputs": [],
   "source": [
    "def calculate_loss(logits, texts, label_converter):\n",
    "    # get infomation from prediction\n",
    "    device = logits.device\n",
    "    input_len, batch_size, vocab_size = logits.size()\n",
    "    # encode inputs\n",
    "    logits = logits.log_softmax(2)\n",
    "    encoded_texts, text_lens = label_converter.encode(texts)\n",
    "    logits_lens = torch.full(size=(batch_size,), fill_value=input_len, dtype=torch.int32)\n",
    "    # calculate ctc\n",
    "    loss = critertion(logits, encoded_texts, \n",
    "                      logits_lens.to(device), text_lens)\n",
    "    return loss"
   ]
  },
  {
   "cell_type": "markdown",
   "metadata": {},
   "source": [
    "## <center> Training"
   ]
  },
  {
   "cell_type": "code",
   "execution_count": 18,
   "metadata": {},
   "outputs": [],
   "source": [
    "epoch = 0"
   ]
  },
  {
   "cell_type": "code",
   "execution_count": 19,
   "metadata": {},
   "outputs": [
    {
     "data": {
      "text/plain": [
       "26"
      ]
     },
     "execution_count": 19,
     "metadata": {},
     "output_type": "execute_result"
    }
   ],
   "source": [
    "train_losses = []\n",
    "val_losses = []\n",
    "val_epoch_len = len(val_dataset) // BATCH_SIZE\n",
    "val_epoch_len"
   ]
  },
  {
   "cell_type": "code",
   "execution_count": 22,
   "metadata": {
    "execution": {
     "iopub.execute_input": "2024-06-28T17:54:29.778210Z",
     "iopub.status.busy": "2024-06-28T17:54:29.777882Z",
     "iopub.status.idle": "2024-06-28T17:58:34.745835Z",
     "shell.execute_reply": "2024-06-28T17:58:34.744824Z",
     "shell.execute_reply.started": "2024-06-28T17:54:29.778182Z"
    }
   },
   "outputs": [
    {
     "name": "stderr",
     "output_type": "stream",
     "text": [
      "/opt/conda/lib/python3.7/site-packages/ipykernel_launcher.py:30: DeprecationWarning: Using or importing the ABCs from 'collections' instead of from 'collections.abc' is deprecated since Python 3.3,and in 3.9 it will stop working\n"
     ]
    },
    {
     "name": "stdout",
     "output_type": "stream",
     "text": [
      "Epoch    19: reducing learning rate of group 0 to 2.0000e-03.\n",
      "Epoch    25: reducing learning rate of group 0 to 2.0000e-04.\n",
      "Epoch    31: reducing learning rate of group 0 to 2.0000e-05.\n",
      "Epoch    37: reducing learning rate of group 0 to 2.0000e-06.\n",
      "Epoch    43: reducing learning rate of group 0 to 2.0000e-07.\n",
      "Epoch    49: reducing learning rate of group 0 to 2.0000e-08.\n",
      "Epoch    55: reducing learning rate of group 0 to 2.0000e-09.\n",
      "Loss: 0.0008589424542151392\n"
     ]
    }
   ],
   "source": [
    "try:\n",
    "    while epoch <= 100:\n",
    "        crnn.train()\n",
    "        for idx, (batch_imgs, batch_text) in enumerate(train_dataloader):\n",
    "            optimizer.zero_grad()\n",
    "            logits = crnn(batch_imgs.to(device))\n",
    "            # calculate loss\n",
    "            train_loss = calculate_loss(logits, batch_text, label_converter)\n",
    "            if np.isnan(train_loss.detach().cpu().numpy()):\n",
    "                continue\n",
    "            train_losses.append(train_loss.item())\n",
    "            # make backward\n",
    "            train_loss.backward()\n",
    "\n",
    "            nn.utils.clip_grad_norm_(crnn.parameters(), clip_norm)\n",
    "            optimizer.step()\n",
    "\n",
    "        val_losses = validation(crnn, val_losses, label_converter)\n",
    "        \n",
    "        # printing progress\n",
    "       ## print_prediction(crnn, val_dataset, device, label_converter)\n",
    "        \n",
    "        scheduler.step(val_losses[-1])\n",
    "        epoch += 1\n",
    "    print(\"Loss:\",train_loss.item())\n",
    "       \n",
    "except KeyboardInterrupt:\n",
    "    pass"
   ]
  },
  {
   "cell_type": "code",
   "execution_count": null,
   "metadata": {},
   "outputs": [],
   "source": []
  },
  {
   "cell_type": "markdown",
   "metadata": {},
   "source": [
    "#### <center> Calculating Accuracy and printing prediction"
   ]
  },
  {
   "cell_type": "code",
   "execution_count": 27,
   "metadata": {},
   "outputs": [],
   "source": [
    "def acc_calc(model, dataset, label_converter) -> float:\n",
    "    acc = 0\n",
    "    with torch.no_grad():\n",
    "        model.eval()\n",
    "        for idx in range(len(dataset)):\n",
    "            img, text = dataset[idx]\n",
    "            logits = model(img.unsqueeze(0).to(device))\n",
    "            pred_text = decode_prediction(logits.cpu(), label_converter)\n",
    "            \n",
    "            if pred_text == text:\n",
    "                acc += 1\n",
    "            \n",
    "    return acc / len(dataset)"
   ]
  },
  {
   "cell_type": "code",
   "execution_count": 20,
   "metadata": {},
   "outputs": [
    {
     "data": {
      "text/plain": [
       "<All keys matched successfully>"
      ]
     },
     "execution_count": 20,
     "metadata": {},
     "output_type": "execute_result"
    }
   ],
   "source": [
    "crnn.load_state_dict(torch.load('./crnn.pt',map_location=device))"
   ]
  },
  {
   "cell_type": "code",
   "execution_count": 22,
   "metadata": {},
   "outputs": [
    {
     "data": {
      "image/png": "[encoded data removed]",
      "text/plain": [
       "<Figure size 640x480 with 1 Axes>"
      ]
     },
     "metadata": {},
     "output_type": "display_data"
    }
   ],
   "source": [
    "print_prediction(crnn, val_dataset, device, label_converter)"
   ]
  },
  {
   "cell_type": "code",
   "execution_count": 36,
   "metadata": {},
   "outputs": [
    {
     "name": "stdout",
     "output_type": "stream",
     "text": [
      "Validaton Accuracy:  0.8411214953271028\n",
      "Training Accuracy:  0.9462616822429907\n"
     ]
    }
   ],
   "source": [
    "val_acc = acc_calc(crnn, val_dataset, label_converter)\n",
    "train_acc = acc_calc(crnn, train_dataset, label_converter)\n",
    "print('Validaton Accuracy: ', val_acc)\n",
    "print('Training Accuracy: ', train_acc)"
   ]
  },
  {
   "cell_type": "code",
   "execution_count": 37,
   "metadata": {},
   "outputs": [
    {
     "data": {
      "text/plain": [
       "CRNN(\n",
       "  (resnet): Sequential(\n",
       "    (0): Conv2d(3, 64, kernel_size=(7, 7), stride=(2, 2), padding=(3, 3), bias=False)\n",
       "    (1): BatchNorm2d(64, eps=1e-05, momentum=0.1, affine=True, track_running_stats=True)\n",
       "    (2): ReLU(inplace=True)\n",
       "    (3): MaxPool2d(kernel_size=3, stride=2, padding=1, dilation=1, ceil_mode=False)\n",
       "    (4): Sequential(\n",
       "      (0): BasicBlock(\n",
       "        (conv1): Conv2d(64, 64, kernel_size=(3, 3), stride=(1, 1), padding=(1, 1), bias=False)\n",
       "        (bn1): BatchNorm2d(64, eps=1e-05, momentum=0.1, affine=True, track_running_stats=True)\n",
       "        (relu): ReLU(inplace=True)\n",
       "        (conv2): Conv2d(64, 64, kernel_size=(3, 3), stride=(1, 1), padding=(1, 1), bias=False)\n",
       "        (bn2): BatchNorm2d(64, eps=1e-05, momentum=0.1, affine=True, track_running_stats=True)\n",
       "      )\n",
       "      (1): BasicBlock(\n",
       "        (conv1): Conv2d(64, 64, kernel_size=(3, 3), stride=(1, 1), padding=(1, 1), bias=False)\n",
       "        (bn1): BatchNorm2d(64, eps=1e-05, momentum=0.1, affine=True, track_running_stats=True)\n",
       "        (relu): ReLU(inplace=True)\n",
       "        (conv2): Conv2d(64, 64, kernel_size=(3, 3), stride=(1, 1), padding=(1, 1), bias=False)\n",
       "        (bn2): BatchNorm2d(64, eps=1e-05, momentum=0.1, affine=True, track_running_stats=True)\n",
       "      )\n",
       "    )\n",
       "    (5): Sequential(\n",
       "      (0): BasicBlock(\n",
       "        (conv1): Conv2d(64, 128, kernel_size=(3, 3), stride=(2, 2), padding=(1, 1), bias=False)\n",
       "        (bn1): BatchNorm2d(128, eps=1e-05, momentum=0.1, affine=True, track_running_stats=True)\n",
       "        (relu): ReLU(inplace=True)\n",
       "        (conv2): Conv2d(128, 128, kernel_size=(3, 3), stride=(1, 1), padding=(1, 1), bias=False)\n",
       "        (bn2): BatchNorm2d(128, eps=1e-05, momentum=0.1, affine=True, track_running_stats=True)\n",
       "        (downsample): Sequential(\n",
       "          (0): Conv2d(64, 128, kernel_size=(1, 1), stride=(2, 2), bias=False)\n",
       "          (1): BatchNorm2d(128, eps=1e-05, momentum=0.1, affine=True, track_running_stats=True)\n",
       "        )\n",
       "      )\n",
       "      (1): BasicBlock(\n",
       "        (conv1): Conv2d(128, 128, kernel_size=(3, 3), stride=(1, 1), padding=(1, 1), bias=False)\n",
       "        (bn1): BatchNorm2d(128, eps=1e-05, momentum=0.1, affine=True, track_running_stats=True)\n",
       "        (relu): ReLU(inplace=True)\n",
       "        (conv2): Conv2d(128, 128, kernel_size=(3, 3), stride=(1, 1), padding=(1, 1), bias=False)\n",
       "        (bn2): BatchNorm2d(128, eps=1e-05, momentum=0.1, affine=True, track_running_stats=True)\n",
       "      )\n",
       "    )\n",
       "    (6): Sequential(\n",
       "      (0): BasicBlock(\n",
       "        (conv1): Conv2d(128, 256, kernel_size=(3, 3), stride=(2, 2), padding=(1, 1), bias=False)\n",
       "        (bn1): BatchNorm2d(256, eps=1e-05, momentum=0.1, affine=True, track_running_stats=True)\n",
       "        (relu): ReLU(inplace=True)\n",
       "        (conv2): Conv2d(256, 256, kernel_size=(3, 3), stride=(1, 1), padding=(1, 1), bias=False)\n",
       "        (bn2): BatchNorm2d(256, eps=1e-05, momentum=0.1, affine=True, track_running_stats=True)\n",
       "        (downsample): Sequential(\n",
       "          (0): Conv2d(128, 256, kernel_size=(1, 1), stride=(2, 2), bias=False)\n",
       "          (1): BatchNorm2d(256, eps=1e-05, momentum=0.1, affine=True, track_running_stats=True)\n",
       "        )\n",
       "      )\n",
       "      (1): BasicBlock(\n",
       "        (conv1): Conv2d(256, 256, kernel_size=(3, 3), stride=(1, 1), padding=(1, 1), bias=False)\n",
       "        (bn1): BatchNorm2d(256, eps=1e-05, momentum=0.1, affine=True, track_running_stats=True)\n",
       "        (relu): ReLU(inplace=True)\n",
       "        (conv2): Conv2d(256, 256, kernel_size=(3, 3), stride=(1, 1), padding=(1, 1), bias=False)\n",
       "        (bn2): BatchNorm2d(256, eps=1e-05, momentum=0.1, affine=True, track_running_stats=True)\n",
       "      )\n",
       "    )\n",
       "  )\n",
       "  (cn6): blockCNN(\n",
       "    (conv): Conv2d(256, 256, kernel_size=(3, 3), stride=(1, 1), padding=(1, 1))\n",
       "    (bn): BatchNorm2d(256, eps=1e-05, momentum=0.1, affine=True, track_running_stats=True)\n",
       "  )\n",
       "  (linear1): Linear(in_features=1024, out_features=256, bias=True)\n",
       "  (gru1): blockRNN(\n",
       "    (gru): GRU(256, 256, bidirectional=True)\n",
       "  )\n",
       "  (gru2): blockRNN(\n",
       "    (gru): GRU(256, 256, bidirectional=True)\n",
       "  )\n",
       "  (linear2): Linear(in_features=512, out_features=37, bias=True)\n",
       ")"
      ]
     },
     "execution_count": 37,
     "metadata": {},
     "output_type": "execute_result"
    }
   ],
   "source": [
    "crnn"
   ]
  },
  {
   "cell_type": "code",
   "execution_count": null,
   "metadata": {},
   "outputs": [],
   "source": []
  }
 ],
 "metadata": {
  "kaggle": {
   "accelerator": "gpu",
   "dataSources": [
    {
     "datasetId": 894943,
     "sourceId": 1518327,
     "sourceType": "datasetVersion"
    }
   ],
   "dockerImageVersionId": 30015,
   "isGpuEnabled": true,
   "isInternetEnabled": true,
   "language": "python",
   "sourceType": "notebook"
  },
  "kernelspec": {
   "display_name": "Python 3 (ipykernel)",
   "language": "python",
   "name": "python3"
  },
  "language_info": {
   "codemirror_mode": {
    "name": "ipython",
    "version": 3
   },
   "file_extension": ".py",
   "mimetype": "text/x-python",
   "name": "python",
   "nbconvert_exporter": "python",
   "pygments_lexer": "ipython3",
   "version": "3.12.4"
  }
 },
 "nbformat": 4,
 "nbformat_minor": 4
}
